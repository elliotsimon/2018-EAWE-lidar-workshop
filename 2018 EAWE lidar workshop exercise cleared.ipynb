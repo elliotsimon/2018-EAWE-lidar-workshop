{
 "cells": [
  {
   "cell_type": "code",
   "execution_count": null,
   "metadata": {
    "collapsed": true
   },
   "outputs": [],
   "source": [
    "__author__ = \"Elliot Simon\"\n",
    "__credits__ = [\"DTU-Risø\", \"Guillaume Lea\", \"Mike Courtney\"]\n",
    "__email__ = \"ellsim@dtu.dk\"\n",
    "__license__ = \"Exercise released under GNU GPL v3.0. Measurement data use is only granted for the purpose of the exercice. Please contact the author if you woud like additional rights\""
   ]
  },
  {
   "cell_type": "markdown",
   "metadata": {},
   "source": [
    "# Experiment overview"
   ]
  },
  {
   "cell_type": "markdown",
   "metadata": {},
   "source": [
    "<font size=4>\n",
    "This exercise uses real wind lidar data from the WAFFLE experiement conducted at DTU-Risø by Elliot and Guillaume. <br />\n",
    "The system is a Leosphere WindCube 400S running DTU's WindScanner software. <br />\n",
    "Measurements are delivered in the same raw data format as we obtained. <br />\n",
    "The lidar was configured to scan horizontally (PPI, or sector scans) at a 3 degree elevation angle. <br />\n",
    "A met-mast is positioned approximately 300m west of the lidar. <br />\n",
    "Follow along with the tutorial and feel free to modify/extend anything you want!\n",
    "</font>"
   ]
  },
  {
   "cell_type": "markdown",
   "metadata": {},
   "source": [
    "![Experiment overview](./experiment-overview.png)"
   ]
  },
  {
   "cell_type": "markdown",
   "metadata": {},
   "source": [
    "![Experiment close up](./experiment-closeup.png)"
   ]
  },
  {
   "cell_type": "markdown",
   "metadata": {
    "collapsed": true
   },
   "source": [
    "![Field photo](./field-photo.png)"
   ]
  },
  {
   "cell_type": "markdown",
   "metadata": {},
   "source": [
    "# Initialization / Configuration"
   ]
  },
  {
   "cell_type": "code",
   "execution_count": null,
   "metadata": {
    "collapsed": true
   },
   "outputs": [],
   "source": [
    "# Import modules needed\n",
    "import numpy as np\n",
    "import pandas as pd\n",
    "import glob\n",
    "import matplotlib.pyplot as plt\n",
    "from matplotlib.dates import DateFormatter\n",
    "import datetime\n",
    "import ipywidgets as widgets"
   ]
  },
  {
   "cell_type": "code",
   "execution_count": null,
   "metadata": {
    "collapsed": true
   },
   "outputs": [],
   "source": [
    "# Set plotting preferences\n",
    "\n",
    "%matplotlib inline\n",
    "# %matplotlib notebook\n",
    "\n",
    "plt.style.use('classic')\n",
    "plt.rcParams['figure.figsize'] = (10,5)\n",
    "plt.rcParams['figure.dpi'] = 100\n",
    "plt.rcParams['font.size'] = 14\n",
    "plt.rcParams['font.family'] = 'Serif'\n",
    "plt.rcParams['figure.facecolor'] = 'white'\n",
    "plt.rcParams['axes.formatter.useoffset'] = False\n",
    "\n",
    "fmt = DateFormatter('%D %H:%M:%S')"
   ]
  },
  {
   "cell_type": "markdown",
   "metadata": {},
   "source": [
    "# File Loading"
   ]
  },
  {
   "cell_type": "code",
   "execution_count": null,
   "metadata": {
    "collapsed": true
   },
   "outputs": [],
   "source": [
    "# Set path to folder where our data is stored\n",
    "filepath = './/20170409113034_PPI1'"
   ]
  },
  {
   "cell_type": "code",
   "execution_count": null,
   "metadata": {},
   "outputs": [],
   "source": [
    "%%time\n",
    "# Reads all wind_data files inside directory\n",
    "all_files = glob.glob(filepath + \"/*_wind.txt\")\n",
    "all_files.sort()\n",
    "print(\"\\n\".join(all_files))\n",
    "\n",
    "df_ws = pd.concat((pd.read_csv(f, sep=';', header=None, usecols=[*range(1,136)], index_col=0) for f in all_files))"
   ]
  },
  {
   "cell_type": "code",
   "execution_count": null,
   "metadata": {},
   "outputs": [],
   "source": [
    "# Take a look at the data before processing\n",
    "df_ws.head()"
   ]
  },
  {
   "cell_type": "markdown",
   "metadata": {},
   "source": [
    "# Pre-processing"
   ]
  },
  {
   "cell_type": "code",
   "execution_count": null,
   "metadata": {
    "collapsed": true
   },
   "outputs": [],
   "source": [
    "# Define a function to convert from LabVIEW time to datetime object (originally UTC format, add 1 hour to match local time)\n",
    "def convtime(labviewtime):\n",
    "    unixtime = labviewtime - 2082844800\n",
    "    timestamp = datetime.datetime.utcfromtimestamp(int(unixtime)) + pd.Timedelta(hours=1)\n",
    "    return timestamp"
   ]
  },
  {
   "cell_type": "code",
   "execution_count": null,
   "metadata": {
    "collapsed": true
   },
   "outputs": [],
   "source": [
    "# Apply the time conversion to the column holding the timestamps (end of LOS measurement)\n",
    "# Set the index to the new datetime object, and sort to ensure the time series is naturally ordered\n",
    "df_ws['dt_stop'] = df_ws[5].apply(lambda x: convtime(x))\n",
    "df_ws.set_index(['dt_stop'], inplace=True)\n",
    "df_ws.sort_index(inplace=True)"
   ]
  },
  {
   "cell_type": "code",
   "execution_count": null,
   "metadata": {
    "collapsed": true
   },
   "outputs": [],
   "source": [
    "# For ease of use, reindex the column numbers, and rename the azimuth and elevation columns\n",
    "df_ws.columns = range(0,len(df_ws.columns))\n",
    "df_ws.rename(columns = {4:'azim'}, inplace=True)\n",
    "df_ws.rename(columns = {5:'elev'}, inplace=True)"
   ]
  },
  {
   "cell_type": "code",
   "execution_count": null,
   "metadata": {},
   "outputs": [],
   "source": [
    "# Again, inspect the structure of our data\n",
    "df_ws.head()"
   ]
  },
  {
   "cell_type": "code",
   "execution_count": null,
   "metadata": {
    "collapsed": true
   },
   "outputs": [],
   "source": [
    "# Pull out a list of the measured range gates\n",
    "range_gates = df_ws.iloc[0,6::4].tolist()"
   ]
  },
  {
   "cell_type": "code",
   "execution_count": null,
   "metadata": {
    "collapsed": true
   },
   "outputs": [],
   "source": [
    "# Define a function to relate a given range gate to its corresponding column number\n",
    "def get_rg_col(rg, rg_list=range_gates):\n",
    "    '''\n",
    "    Returns column position of specified range gate (provided in meters)\n",
    "\n",
    "    Note that this gives the base column position for the 4-set (distance, radial_speed, cnr, dispersion)\n",
    "    So you need to add 1, 2, or 3 to this result for selecting the corresponding measurement\n",
    "    '''\n",
    "    return rg_list.index(rg) * 4 + 6"
   ]
  },
  {
   "cell_type": "code",
   "execution_count": null,
   "metadata": {},
   "outputs": [],
   "source": [
    "# Test on the first & last range gate\n",
    "print(get_rg_col(range_gates[0]))\n",
    "print(get_rg_col(range_gates[-1]))"
   ]
  },
  {
   "cell_type": "markdown",
   "metadata": {},
   "source": [
    "## Quality Control"
   ]
  },
  {
   "cell_type": "code",
   "execution_count": null,
   "metadata": {},
   "outputs": [],
   "source": [
    "# Inspect the first 100 azimuth values to better understand the scanning pattern\n",
    "ax = df_ws['azim'].iloc[0:100].plot()\n",
    "ax.xaxis.set_major_formatter(fmt)\n",
    "plt.ylabel('Azimuth angle (degrees)');"
   ]
  },
  {
   "cell_type": "code",
   "execution_count": null,
   "metadata": {},
   "outputs": [],
   "source": [
    "# There are 20 rows for each scan before it resets\n",
    "df_ws['azim'].iloc[0:20].plot()\n",
    "plt.ylabel('Elevation angle (degrees)')\n",
    "n_los_scan = 20"
   ]
  },
  {
   "cell_type": "code",
   "execution_count": null,
   "metadata": {
    "collapsed": true
   },
   "outputs": [],
   "source": [
    "# Pull out a list of the azimuth angles (this scenario stays the same)\n",
    "# Convert to radians for use in plotting on polar axis\n",
    "azims = df_ws.iloc[0:20]['azim'].tolist()\n",
    "azims_rad = np.radians(azims)"
   ]
  },
  {
   "cell_type": "code",
   "execution_count": null,
   "metadata": {},
   "outputs": [],
   "source": [
    "# Check the distribution of elevation angles\n",
    "# Values should all be +/- 0.5 degrees (the angle is not changed in this scenario)\n",
    "plt.hist(df_ws['elev'], 50)\n",
    "plt.ylabel('Frequency (#)');"
   ]
  },
  {
   "cell_type": "code",
   "execution_count": null,
   "metadata": {},
   "outputs": [],
   "source": [
    "# Inspect the radial speed pattern (should resemble a partial cosine)\n",
    "dist = range_gates[1]\n",
    "ax = df_ws.iloc[1200:1300, get_rg_col(dist)+1].plot()\n",
    "plt.ylabel('Radial speed from lidar (m/s)')\n",
    "ax.xaxis.set_major_formatter(fmt)"
   ]
  },
  {
   "cell_type": "markdown",
   "metadata": {},
   "source": [
    "# Filtering"
   ]
  },
  {
   "cell_type": "code",
   "execution_count": null,
   "metadata": {
    "collapsed": true
   },
   "outputs": [],
   "source": [
    "# Loops through list of range gates and applies filters \n",
    "for dist in range_gates:\n",
    "    rg = get_rg_col(dist)\n",
    "    # column position + 2 = CNR column. This filters low signal\n",
    "    mask = df_ws[rg+2] < -27\n",
    "    df_ws.loc[mask, rg+1] = np.nan\n",
    "    \n",
    "#    column position + 2 = CNR column. This filters high signal (object/hard target)\n",
    "#    mask = df_ws[rg+2] > 0\n",
    "#    df_ws.loc[mask, rg+1] = np.nan"
   ]
  },
  {
   "cell_type": "markdown",
   "metadata": {},
   "source": [
    "# Scan Plotting"
   ]
  },
  {
   "cell_type": "code",
   "execution_count": null,
   "metadata": {
    "collapsed": true
   },
   "outputs": [],
   "source": [
    "# Define a function to handle our plotting calls\n",
    "# Everything is in polar to avoid interpolation steps required to convert to a Cartesian system. \n",
    "def plot_ppi(n=0, cmap='seismic', vmin=-25, vmax=25, scalestep=0.1):\n",
    "    r, theta = np.meshgrid(range_gates, azims_rad)\n",
    "\n",
    "    df_scan = df_ws.iloc[n*20:n*20+20]\n",
    "    timestamp = df_scan.last_valid_index()\n",
    "\n",
    "    values = df_scan.iloc[:,7::4]\n",
    "\n",
    "    f = plt.figure(figsize=(10, 10))  # Size\n",
    "    ax = plt.subplot(111, polar=True)  # Create subplot\n",
    "\n",
    "    pp = plt.contourf(theta, r, values, vmin=vmin, vmax=vmax, cmap=cmap, levels=np.arange(vmin,vmax,scalestep))\n",
    "    ax.set_theta_zero_location(\"N\")\n",
    "    ax.set_thetamin(min(azims))\n",
    "    ax.set_thetamax(max(azims))\n",
    "    cbar = plt.colorbar(pp, orientation='vertical')\n",
    "    cbar.ax.set_ylabel('radial speed (m/s)', rotation=270)\n",
    "    plt.grid(color='#888888')\n",
    "    ax.grid(True)\n",
    "    ax.set_theta_direction(-1)\n",
    "    ax.spines['polar'].set_visible(False)\n",
    "    plt.title('WAFFLE PPI Plot' + '\\n' + str(timestamp), fontsize=18)"
   ]
  },
  {
   "cell_type": "code",
   "execution_count": null,
   "metadata": {},
   "outputs": [],
   "source": [
    "# Look at any random scan\n",
    "plot_ppi(2930)"
   ]
  },
  {
   "cell_type": "code",
   "execution_count": null,
   "metadata": {},
   "outputs": [],
   "source": [
    "# Create a widget to view the scans\n",
    "# The widget ui has play controls, a slider to select the scan, a dropdown to select a colormap,\n",
    "# And (floating point) inputs to control the colorscale limits and step-size\n",
    "\n",
    "n_max = int(len(df_ws)/20)-1\n",
    "play = widgets.Play(value=0, min=0, max=n_max, step=1, speed=0.1)\n",
    "slider = widgets.IntSlider(value=0, min=0, max=n_max, step=1)\n",
    "link = widgets.jslink((play, 'value'), (slider, 'value'))\n",
    "cmap = widgets.Dropdown(options=plt.colormaps(), value='seismic', description='cmap')\n",
    "vmin = widgets.FloatText(value=-25, description='vmin')\n",
    "vmax = widgets.FloatText(value=25, description='vmax')\n",
    "scalestep = widgets.FloatText(value=0.5, description='scalestep', step=0.1)\n",
    "out = widgets.interactive_output(plot_ppi, {'n':play, 'cmap':cmap, 'vmin':vmin, 'vmax':vmax, 'scalestep':scalestep});\n",
    "top_box = widgets.HBox([play, slider, cmap])\n",
    "bottom_box = widgets.HBox([vmin, vmax, scalestep])\n",
    "ui = widgets.VBox([top_box, bottom_box])\n",
    "\n",
    "display(ui, out)"
   ]
  },
  {
   "cell_type": "markdown",
   "metadata": {},
   "source": [
    "# Horizontal wind vector retrieval"
   ]
  },
  {
   "cell_type": "markdown",
   "metadata": {},
   "source": [
    "<font size=4>\n",
    "Here we implement the integrated Velocity Azimuth Process (iVAP) introduced in <a href='https://journals.ametsoc.org/doi/abs/10.1175/JTECH2047.1'>\n",
    "Liang (2007) </a> which assumes a uniform wind flow within the scanned volume and fits the radial wind speeds to a cosine in order to obtain horizontal wind components. Another assumption is that there is no vertical motion. <br />\n",
    "The vector components are then converted to scaler wind speed and direction.\n",
    "</font>"
   ]
  },
  {
   "cell_type": "markdown",
   "metadata": {},
   "source": [
    "$\n",
    "\\Large{\n",
    "u = \\frac{(\\sum_{\\theta_{start}}^{\\theta_{stop}} (rs*\\cos \\theta ) * \\sum_{\\theta_{start}}^{\\theta_{stop}} (\\sin^2 \\theta ) )- (\\sum_{\\theta_{start}}^{\\theta_{stop}} (rs*\\sin \\theta ) * \\sum_{\\theta_{start}}^{\\theta_{stop}} (\\cos \\theta  * \\sin \\theta ))}\n",
    "{((\\sum_{\\theta_{start}}^{\\theta_{stop}} \\cos^2 \\theta )*\\sum_{\\theta_{start}}^{\\theta_{stop}} \\sin^2 \\theta  )) - (\\sum_{\\theta_{start}}^{\\theta_{stop}} (\\cos \\theta  * \\sin \\theta ))^2)}\n",
    "}\n",
    "$"
   ]
  },
  {
   "cell_type": "markdown",
   "metadata": {},
   "source": [
    "$\n",
    "\\Large{\n",
    "v = \\frac{(\\sum_{\\theta_{start}}^{\\theta_{stop}} (rs*\\sin \\theta ) * \\sum_{\\theta_{start}}^{\\theta_{stop}} (\\cos^2 \\theta ) )- (\\sum_{\\theta_{start}}^{\\theta_{stop}} (rs*\\cos \\theta ) * \\sum_{\\theta_{start}}^{\\theta_{stop}} (\\cos \\theta  * \\sin \\theta ))}\n",
    "{((\\sum_{\\theta_{start}}^{\\theta_{stop}} \\cos^2 \\theta )*\\sum_{\\theta_{start}}^{\\theta_{stop}} \\sin^2 \\theta )) - (\\sum_{\\theta_{start}}^{\\theta_{stop}} (\\cos \\theta  * \\sin \\theta ))^2)}\n",
    "}\n",
    "$"
   ]
  },
  {
   "cell_type": "markdown",
   "metadata": {},
   "source": [
    "$\n",
    "\\Large{\n",
    "V_h = \\sqrt{u^2 + v^2}\n",
    "}\n",
    "$"
   ]
  },
  {
   "cell_type": "markdown",
   "metadata": {},
   "source": [
    "$\n",
    "\\Large{\n",
    "dir = atan2\\: (v,u) + offset\n",
    "}\n",
    "$"
   ]
  },
  {
   "cell_type": "code",
   "execution_count": null,
   "metadata": {
    "collapsed": true
   },
   "outputs": [],
   "source": [
    "# Note that this function is not designed for speed but ease of readability\n",
    "def calc_u(df_scan):\n",
    "    '''Calculate u component of the horizontal wind speed vector using iVAP reconstruction method on a single PPI scan'''\n",
    "    sum1u, sum2u, sum3u, sum4u, sum5u, sum6u, sum7u = [], [], [], [], [], [], []\n",
    "    for index, row in df_scan.iterrows():\n",
    "        sum1u.append(df_scan.at[index, 'rs'] * np.cos(np.radians(df_scan.at[index, 'azim'])))\n",
    "        sum2u.append(np.power(np.sin(np.radians(df_scan.at[index, 'azim'])), 2))\n",
    "        sum3u.append(df_scan.at[index, 'rs'] * np.sin(np.radians(df_scan.at[index, 'azim'])))\n",
    "        sum4u.append(np.cos(np.radians(df_scan.at[index, 'azim'])) * np.sin(np.radians(df_scan.at[index, 'azim'])))\n",
    "        sum5u.append(np.power(np.cos(np.radians(df_scan.at[index, 'azim'])), 2))\n",
    "        sum6u.append(np.power(np.sin(np.radians(df_scan.at[index, 'azim'])), 2))\n",
    "        sum7u.append(np.cos(np.radians(df_scan.at[index, 'azim'])) * np.sin(np.radians(df_scan.at[index, 'azim'])))\n",
    "        \n",
    "       # print(sum1u)\n",
    "        \n",
    "    u = ((np.sum(sum1u) * np.sum(sum2u)) - (np.sum(sum3u) * np.sum(sum4u))) / ((np.sum(sum5u) * np.sum(sum6u)) - (np.power(np.sum(sum7u), 2)))\n",
    "    return u"
   ]
  },
  {
   "cell_type": "code",
   "execution_count": null,
   "metadata": {
    "collapsed": true
   },
   "outputs": [],
   "source": [
    "# Note that this function is not designed for speed but ease of readability\n",
    "def calc_v(df_scan):\n",
    "    '''Calculate v component of the horizontal wind speed vector using iVAP reconstruction method on a single PPI scan'''\n",
    "    sum1v, sum2v, sum3v, sum4v, sum5v, sum6v, sum7v = [], [], [], [], [], [], []\n",
    "    for index, row in df_scan.iterrows():\n",
    "        sum1v.append(df_scan.at[index, 'rs'] * np.sin(np.radians(df_scan.at[index, 'azim'])))\n",
    "        sum2v.append(np.power(np.cos(np.radians(df_scan.at[index, 'azim'])), 2))\n",
    "        sum3v.append(df_scan.at[index, 'rs'] * np.cos(np.radians(df_scan.at[index, 'azim'])))\n",
    "        sum4v.append(np.cos(np.radians(df_scan.at[index, 'azim'])) * np.sin(np.radians(df_scan.at[index, 'azim'])))\n",
    "        sum5v.append(np.power(np.cos(np.radians(df_scan.at[index, 'azim'])), 2))\n",
    "        sum6v.append(np.power(np.sin(np.radians(df_scan.at[index, 'azim'])), 2))\n",
    "        sum7v.append(np.cos(np.radians(df_scan.at[index, 'azim'])) * np.sin(np.radians(df_scan.at[index, 'azim'])))\n",
    "    v = ((np.sum(sum1v) * np.sum(sum2v)) - (np.sum(sum3v) * np.sum(sum4v))) / ((np.sum(sum5v) * np.sum(sum6v)) - (np.power(np.sum(sum7v), 2)))\n",
    "    return v"
   ]
  },
  {
   "cell_type": "code",
   "execution_count": null,
   "metadata": {
    "collapsed": true
   },
   "outputs": [],
   "source": [
    "def calc_hspeed(u, v):\n",
    "    '''Calculate horizontal wind speed (scalar) from u & v components'''\n",
    "    hspeed = (np.sqrt(np.power(u, 2) + np.power(v, 2)))\n",
    "    return hspeed"
   ]
  },
  {
   "cell_type": "code",
   "execution_count": null,
   "metadata": {
    "collapsed": true
   },
   "outputs": [],
   "source": [
    "def calc_dir(u, v, offset=180):\n",
    "    '''Calculate wind direction (degrees) from u and v components. Applies provided offset, default = 180 degrees'''\n",
    "    direction = np.degrees(np.arctan2(v, u)) + offset\n",
    "    return direction"
   ]
  },
  {
   "cell_type": "code",
   "execution_count": null,
   "metadata": {},
   "outputs": [],
   "source": [
    "# Apply the fitting algorithm to the data\n",
    "# This implementation only processes one range gate at a time\n",
    "dist = range_gates[1] # Choose the range gate you want here\n",
    "\n",
    "# Initialize our results container first (putting is faster than appending)\n",
    "df_result = pd.DataFrame(columns=['dt', 'u', 'v', 'spd', 'dir'], index=np.arange(0,n_max+1,1), dtype=np.float64)\n",
    "for count, los in enumerate(range(0, len(df_ws)-20, n_los_scan)):\n",
    "    # Sub-select a single scan\n",
    "    df_scan = df_ws.iloc[los:los+n_los_scan]\n",
    "    # Get the timestamp of the last measurement within the scan\n",
    "    timestamp = df_scan.index[-1]\n",
    "    # Get the corresponding radial speeds and azimuth angles\n",
    "    rs = df_scan.iloc[:,get_rg_col(dist)+1]\n",
    "    az = df_scan.loc[:,'azim']\n",
    "    # Concatenate together, rename columns, integer reindex to prevent possibility of multiple values with same timestamp\n",
    "    scan = pd.concat([rs,az], axis=1).reset_index()\n",
    "    scan.columns = ['dt', 'rs', 'azim']\n",
    "    \n",
    "    # Calculate u, v, speed & direction\n",
    "    u = calc_u(scan)\n",
    "    v = calc_v(scan)\n",
    "    spd = calc_hspeed(u,v)\n",
    "    direction = calc_dir(u,v)\n",
    "    # Concatenate results together\n",
    "    result = [timestamp, u, v, spd, direction]\n",
    "    # Insert into dataframe\n",
    "    df_result.iloc[count] = result\n",
    "\n",
    "# Set the timestamp as our index\n",
    "df_result.set_index('dt', inplace=True)\n",
    "# Drop any rows with all NaNs\n",
    "df_result.dropna(how='all', inplace=True)\n",
    "print('Length of data processed: ' + str(df_result.last_valid_index() - df_result.first_valid_index()))"
   ]
  },
  {
   "cell_type": "code",
   "execution_count": null,
   "metadata": {},
   "outputs": [],
   "source": [
    "df_result.head()"
   ]
  },
  {
   "cell_type": "code",
   "execution_count": null,
   "metadata": {},
   "outputs": [],
   "source": [
    "# Plot time series of result for both speed and direction\n",
    "ax = df_result['spd'].plot(c='r', marker='.', linewidth=0, zorder=0)\n",
    "plt.ylabel('Wind speed (m/s)', color='r')\n",
    "ax.tick_params('y', colors='r')\n",
    "ax2 = ax.twinx()\n",
    "df_result['dir'].plot(ax=ax2, c='c', alpha=0.8, marker='.', linewidth=0, zorder=1)\n",
    "ax2.xaxis.set_major_formatter(fmt)\n",
    "ax2.tick_params('y', colors='c')\n",
    "plt.ylabel('Wind direction (degrees)', rotation=270, color='c')\n",
    "ax2.yaxis.set_label_coords(1.08,0.5)\n",
    "ax.set_zorder(1)\n",
    "ax.patch.set_visible(False)"
   ]
  },
  {
   "cell_type": "markdown",
   "metadata": {},
   "source": [
    "# Mast Comparison"
   ]
  },
  {
   "cell_type": "code",
   "execution_count": null,
   "metadata": {
    "collapsed": true
   },
   "outputs": [],
   "source": [
    "# Load in previously prepared mast data- 35 Hz sonic measurements which were smoothed (using a 22s moving average) \n",
    "# to match the lidar scan rate and then resampled to 1s resolution\n",
    "df_mast = pd.read_hdf('201704090000_201704110000_22Sroll_1Sres.hdf', 'df')"
   ]
  },
  {
   "cell_type": "code",
   "execution_count": null,
   "metadata": {},
   "outputs": [],
   "source": [
    "# Inspect the data available\n",
    "df_mast.columns"
   ]
  },
  {
   "cell_type": "code",
   "execution_count": null,
   "metadata": {
    "collapsed": true
   },
   "outputs": [],
   "source": [
    "# Join lidar and mast measurements together\n",
    "df_joined = df_result.join(df_mast, how='inner')"
   ]
  },
  {
   "cell_type": "code",
   "execution_count": null,
   "metadata": {},
   "outputs": [],
   "source": [
    "# Compare the time series between both instruments for wind speed\n",
    "df_joined['SWsp_18m'].plot(c='r')\n",
    "df_joined['spd'].plot(c='c')\n",
    "plt.legend(loc='upper center', ncol=2, fontsize=12)"
   ]
  },
  {
   "cell_type": "code",
   "execution_count": null,
   "metadata": {
    "collapsed": true
   },
   "outputs": [],
   "source": [
    "# Define a function for making scatterplots, including the reference line y=x\n",
    "def plot_scatter(x, y, c, title):\n",
    "    f, ax = plt.subplots(figsize=(5,5))\n",
    "    plt.scatter(x, y, c=c)\n",
    "    # Adds a line y=x to scatterplot\n",
    "    lims = [\n",
    "    np.min([ax.get_xlim(), ax.get_ylim()]),  # min of both axes\n",
    "    np.max([ax.get_xlim(), ax.get_ylim()])]  # max of both axes \n",
    "    ax.plot(lims, lims, 'k-', alpha=0.75, zorder=0)\n",
    "    ax.set_xlim(lims)\n",
    "    ax.set_ylim(lims)\n",
    "    plt.title(str(title), fontsize=12, y=1.08)\n",
    "    plt.tight_layout()"
   ]
  },
  {
   "cell_type": "code",
   "execution_count": null,
   "metadata": {},
   "outputs": [],
   "source": [
    "# Compare the lidar wind speed with the corresponding mast wind speed\n",
    "plot_scatter(df_joined['SWsp_18m'], df_joined['spd'], c='r', title='18m mast vs. lidar wind speed (22s resolution)')"
   ]
  },
  {
   "cell_type": "code",
   "execution_count": null,
   "metadata": {},
   "outputs": [],
   "source": [
    "# Compare the lidar wind direction with the corresponding mast wind direction\n",
    "plot_scatter(df_joined['Sdir_18m'], df_joined['dir'], c='c', title='18m mast vs. lidar wind direction (22s resolution)')"
   ]
  },
  {
   "cell_type": "code",
   "execution_count": null,
   "metadata": {},
   "outputs": [],
   "source": [
    "# Make the same wind speed plot, but using 1-minute averaged samples\n",
    "plot_scatter(df_joined['SWsp_18m'].resample('1 Min').mean(), df_joined['spd'].resample('1 Min').mean(), c='r',\n",
    "             title='18m mast vs. lidar wind speed (1 Min resolution)')"
   ]
  },
  {
   "cell_type": "code",
   "execution_count": null,
   "metadata": {},
   "outputs": [],
   "source": [
    "# Make the same wind speed plot, but using 10-minute averaged samples\n",
    "plot_scatter(df_joined['SWsp_18m'].resample('10 Min').mean(), df_joined['spd'].resample('10 Min').mean(), c='r', \n",
    "             title='18m mast vs. lidar wind speed (10 Min resolution)')"
   ]
  },
  {
   "cell_type": "markdown",
   "metadata": {},
   "source": [
    "<font size=4>\n",
    "Try to see what else you can find in the data! Good luck and have fun :)\n",
    "</font>"
   ]
  }
 ],
 "metadata": {
  "kernelspec": {
   "display_name": "Python 3",
   "language": "python",
   "name": "python3"
  },
  "language_info": {
   "codemirror_mode": {
    "name": "ipython",
    "version": 3
   },
   "file_extension": ".py",
   "mimetype": "text/x-python",
   "name": "python",
   "nbconvert_exporter": "python",
   "pygments_lexer": "ipython3",
   "version": "3.6.3"
  }
 },
 "nbformat": 4,
 "nbformat_minor": 2
}
